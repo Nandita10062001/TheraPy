{
 "cells": [
  {
   "cell_type": "markdown",
   "id": "ad869a276c8b073c",
   "metadata": {
    "collapsed": false
   },
   "source": [
    "# To run the backend server, run the following command in the terminal:\n",
    "```flask run```"
   ]
  },
  {
   "cell_type": "markdown",
   "id": "fda0757d3f97d15d",
   "metadata": {
    "collapsed": false
   },
   "source": [
    "# To access the YOLO API (make sure there is an image in the uploaded_picture folder, the image will also be then deleted after running inference for privacy reasons). "
   ]
  },
  {
   "cell_type": "code",
   "execution_count": 2,
   "id": "a9f2a4d7ea03c633",
   "metadata": {
    "ExecuteTime": {
     "end_time": "2024-03-09T21:10:55.182330Z",
     "start_time": "2024-03-09T21:10:54.658572Z"
    },
    "collapsed": false
   },
   "outputs": [
    {
     "name": "stdout",
     "output_type": "stream",
     "text": [
      "<!doctype html>\n",
      "<html lang=en>\n",
      "<title>404 Not Found</title>\n",
      "<h1>Not Found</h1>\n",
      "<p>The requested URL was not found on the server. If you entered the URL manually please check your spelling and try again.</p>\n",
      "\n"
     ]
    }
   ],
   "source": [
    "#make get request to the server\n",
    "import requests\n",
    "\n",
    "url = 'http://127.0.0.1:5000/predict'\n",
    "response = requests.get(url)\n",
    "print(response.text)"
   ]
  },
  {
   "cell_type": "markdown",
   "id": "a68c832b7e40563c",
   "metadata": {
    "collapsed": false
   },
   "source": [
    "# To access the questionnaire diagnosis API"
   ]
  },
  {
   "cell_type": "code",
   "execution_count": 3,
   "id": "3505382a596288dd",
   "metadata": {
    "ExecuteTime": {
     "end_time": "2024-03-09T21:28:13.365445Z",
     "start_time": "2024-03-09T21:28:13.359811Z"
    },
    "collapsed": false
   },
   "outputs": [
    {
     "name": "stdout",
     "output_type": "stream",
     "text": [
      "<!doctype html>\n",
      "<html lang=en>\n",
      "<title>405 Method Not Allowed</title>\n",
      "<h1>Method Not Allowed</h1>\n",
      "<p>The method is not allowed for the requested URL.</p>\n",
      "\n"
     ]
    }
   ],
   "source": [
    "#make get request to the server\n",
    "import requests\n",
    "\n",
    "url = 'http://127.0.0.1:5000/predict/adhd'\n",
    "response = requests.get(url)\n",
    "print(response.text)"
   ]
  },
  {
   "cell_type": "code",
   "execution_count": 6,
   "id": "b2de3fb51376ff0e",
   "metadata": {
    "collapsed": false
   },
   "outputs": [
    {
     "name": "stdout",
     "output_type": "stream",
     "text": [
      "Response status code: 500\n",
      "Response text: <!doctype html>\n",
      "<html lang=en>\n",
      "<title>500 Internal Server Error</title>\n",
      "<h1>Internal Server Error</h1>\n",
      "<p>The server encountered an internal error and was unable to complete your request. Either the server is overloaded or there is an error in the application.</p>\n",
      "\n"
     ]
    }
   ],
   "source": [
    "import requests\n",
    "import base64\n",
    "\n",
    "url = 'http://127.0.0.1:5000/predict/adhd'\n",
    "\n",
    "# Assuming you have some image data to send\n",
    "image_path = 'test_predictions\\ADHD.jpg'\n",
    "with open(image_path, 'rb') as img_file:\n",
    "    base64_image = base64.b64encode(img_file.read()).decode('utf-8')\n",
    "\n",
    "payload = {\n",
    "    'imageData': f\"data:image/jpeg;base64,{base64_image}\"\n",
    "}\n",
    "\n",
    "response = requests.post(url, json=payload)\n",
    "print(\"Response status code:\", response.status_code)\n",
    "print(\"Response text:\", response.text)\n"
   ]
  }
 ],
 "metadata": {
  "kernelspec": {
   "display_name": "Python 3",
   "language": "python",
   "name": "python3"
  },
  "language_info": {
   "codemirror_mode": {
    "name": "ipython",
    "version": 3
   },
   "file_extension": ".py",
   "mimetype": "text/x-python",
   "name": "python",
   "nbconvert_exporter": "python",
   "pygments_lexer": "ipython3",
   "version": "3.11.3"
  }
 },
 "nbformat": 4,
 "nbformat_minor": 5
}
